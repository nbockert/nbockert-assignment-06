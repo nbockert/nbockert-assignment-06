{
 "cells": [
  {
   "cell_type": "markdown",
   "metadata": {},
   "source": [
    "# Lab 6: Transformations and Linear Regression\n",
    "\n",
    "## Objectives\n",
    "\n",
    "- Use tranformations to linearize the data.\n",
    "- Fit a linear regression model to the transformed data.\n",
    "- Make a predictions using your model.\n",
    "\n",
    "## Dataset\n",
    "\n",
    "For this lab, we will be using synthetic data for house size (sq ft) and house price (thousands of dollars). You can download it [here](https://drive.google.com/uc?export=download&id=1LhiiA2_Rcu6DVqbMwMQY9Cfj92VFiJJ8). In the csv, there are 2 columns: `Size` and `Price`."
   ]
  },
  {
   "cell_type": "markdown",
   "metadata": {},
   "source": [
    "### 1. Load Data and Import Libraries"
   ]
  },
  {
   "cell_type": "code",
   "execution_count": null,
   "metadata": {},
   "outputs": [],
   "source": [
    "import numpy as np\n",
    "import pandas as pd\n",
    "import matplotlib.pyplot as plt\n",
    "from sklearn.linear_model import LinearRegression\n",
    "\n",
    "# Load the data\n",
    "data = ... # Your code here\n",
    "print(\"First 5 rows of the generated data:\")\n",
    "print(data.head())"
   ]
  },
  {
   "cell_type": "markdown",
   "metadata": {},
   "source": [
    "### 2. Explore the Data\n",
    "\n",
    "- Plot `Size` vs `Price`."
   ]
  },
  {
   "cell_type": "code",
   "execution_count": 9,
   "metadata": {},
   "outputs": [],
   "source": [
    "# Your code here"
   ]
  },
  {
   "cell_type": "markdown",
   "metadata": {},
   "source": [
    "### 3. Transform the Data\n",
    "\n",
    "- Find transformations to linearize the data.\n",
    "- Apply transformations.\n",
    "- Plot the transformed data."
   ]
  },
  {
   "cell_type": "code",
   "execution_count": 4,
   "metadata": {},
   "outputs": [],
   "source": [
    "# Your code here"
   ]
  },
  {
   "cell_type": "markdown",
   "metadata": {},
   "source": [
    "### 4. Fit Linear Model\n",
    "\n",
    "- Fit the regression model to transformed data.\n",
    "- Report your obtained coefficients."
   ]
  },
  {
   "cell_type": "code",
   "execution_count": 5,
   "metadata": {},
   "outputs": [],
   "source": [
    "# Your code here"
   ]
  },
  {
   "cell_type": "markdown",
   "metadata": {},
   "source": [
    "### 5. Residuals\n",
    "\n",
    "- Check the residuals for to verify that transformations were helpful by creating a plot with the residuals on the y-axis and the predicted values on the x-axis."
   ]
  },
  {
   "cell_type": "code",
   "execution_count": 6,
   "metadata": {},
   "outputs": [],
   "source": [
    "# Your code here"
   ]
  },
  {
   "cell_type": "markdown",
   "metadata": {},
   "source": [
    "### 6. Predict\n",
    "\n",
    "- Predict the price for a 2500 sq ft house.\n",
    "- Convert prediction back to original scale (it is currently in the transformed scale)."
   ]
  },
  {
   "cell_type": "code",
   "execution_count": 7,
   "metadata": {},
   "outputs": [],
   "source": [
    "# Your code here"
   ]
  },
  {
   "cell_type": "markdown",
   "metadata": {},
   "source": [
    "### 7. Submit Results\n",
    "\n",
    "- Show your code cell outputs and your plots to the TA"
   ]
  }
 ],
 "metadata": {
  "kernelspec": {
   "display_name": "venv",
   "language": "python",
   "name": "python3"
  },
  "language_info": {
   "codemirror_mode": {
    "name": "ipython",
    "version": 3
   },
   "file_extension": ".py",
   "mimetype": "text/x-python",
   "name": "python",
   "nbconvert_exporter": "python",
   "pygments_lexer": "ipython3",
   "version": "3.10.0"
  }
 },
 "nbformat": 4,
 "nbformat_minor": 2
}
